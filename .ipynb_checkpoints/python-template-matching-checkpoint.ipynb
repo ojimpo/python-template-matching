{
 "cells": [
  {
   "cell_type": "markdown",
   "metadata": {},
   "source": [
    "import cv2\n",
    "import numpy as np"
   ]
  },
  {
   "cell_type": "markdown",
   "metadata": {},
   "source": [
    "def template_matching_sad(src, temp):\n",
    "    # ソース画像とテンプレート画像の高さ・幅を取得\n",
    "    # .shape は配列の行, 列数を指定する, 今回は画像サイズを取得\n",
    "    h, w = src.shape\n",
    "    ht, wt = temp.shape\n",
    "    \n",
    "    # スコア格納用の二次元配列\n",
    "    # ソース画像とテンプレート画像のピクセル数の差の分の行, 列を持つ配列を生成\n",
    "    score = np.empty((h - ht, w - wt))\n",
    "    \n",
    "    #走査\n",
    "    for dy in range(0, h - ht):\n",
    "        "
   ]
  },
  {
   "cell_type": "code",
   "execution_count": 3,
   "metadata": {},
   "outputs": [
    {
     "ename": "error",
     "evalue": "OpenCV(4.1.0) /Users/travis/build/skvark/opencv-python/opencv/modules/imgproc/src/color.cpp:182: error: (-215:Assertion failed) !_src.empty() in function 'cvtColor'\n",
     "output_type": "error",
     "traceback": [
      "\u001b[0;31m---------------------------------------------------------------------------\u001b[0m",
      "\u001b[0;31merror\u001b[0m                                     Traceback (most recent call last)",
      "\u001b[0;32m<ipython-input-3-ff3a691090c7>\u001b[0m in \u001b[0;36m<module>\u001b[0;34m()\u001b[0m\n\u001b[1;32m     45\u001b[0m \u001b[0;34m\u001b[0m\u001b[0m\n\u001b[1;32m     46\u001b[0m \u001b[0;32mif\u001b[0m \u001b[0m__name__\u001b[0m \u001b[0;34m==\u001b[0m \u001b[0;34m\"__main__\"\u001b[0m\u001b[0;34m:\u001b[0m\u001b[0;34m\u001b[0m\u001b[0m\n\u001b[0;32m---> 47\u001b[0;31m     \u001b[0mmain\u001b[0m\u001b[0;34m(\u001b[0m\u001b[0;34m)\u001b[0m\u001b[0;34m\u001b[0m\u001b[0m\n\u001b[0m",
      "\u001b[0;32m<ipython-input-3-ff3a691090c7>\u001b[0m in \u001b[0;36mmain\u001b[0;34m()\u001b[0m\n\u001b[1;32m     30\u001b[0m \u001b[0;34m\u001b[0m\u001b[0m\n\u001b[1;32m     31\u001b[0m     \u001b[0;31m# グレースケール変換\u001b[0m\u001b[0;34m\u001b[0m\u001b[0;34m\u001b[0m\u001b[0m\n\u001b[0;32m---> 32\u001b[0;31m     \u001b[0mgray\u001b[0m \u001b[0;34m=\u001b[0m \u001b[0mcv2\u001b[0m\u001b[0;34m.\u001b[0m\u001b[0mcvtColor\u001b[0m\u001b[0;34m(\u001b[0m\u001b[0mimg\u001b[0m\u001b[0;34m,\u001b[0m \u001b[0mcv2\u001b[0m\u001b[0;34m.\u001b[0m\u001b[0mCOLOR_RGB2GRAY\u001b[0m\u001b[0;34m)\u001b[0m\u001b[0;34m\u001b[0m\u001b[0m\n\u001b[0m\u001b[1;32m     33\u001b[0m     \u001b[0mtemp\u001b[0m \u001b[0;34m=\u001b[0m \u001b[0mcv2\u001b[0m\u001b[0;34m.\u001b[0m\u001b[0mcvtColor\u001b[0m\u001b[0;34m(\u001b[0m\u001b[0mtemp\u001b[0m\u001b[0;34m,\u001b[0m \u001b[0mcv2\u001b[0m\u001b[0;34m.\u001b[0m\u001b[0mCOLOR_RGB2GRAY\u001b[0m\u001b[0;34m)\u001b[0m\u001b[0;34m\u001b[0m\u001b[0m\n\u001b[1;32m     34\u001b[0m \u001b[0;34m\u001b[0m\u001b[0m\n",
      "\u001b[0;31merror\u001b[0m: OpenCV(4.1.0) /Users/travis/build/skvark/opencv-python/opencv/modules/imgproc/src/color.cpp:182: error: (-215:Assertion failed) !_src.empty() in function 'cvtColor'\n"
     ]
    }
   ],
   "source": [
    "#-*- coding:utf-8 -*-\n",
    "import cv2\n",
    "import numpy as np\n",
    "\n",
    "def template_matching_sad(src, temp):\n",
    "    # 画像の高さ・幅を取得\n",
    "    h, w = src.shape\n",
    "    ht, wt = temp.shape\n",
    "   \n",
    "    # スコア格納用の二次元配列\n",
    "    score = np.empty((h-ht, w-wt))\n",
    "  \n",
    "    # 走査\n",
    "    for dy in range(0, h - ht):\n",
    "        for dx in range(0, w - wt):\n",
    "            # 差分の絶対和を計算\n",
    "            diff = np.abs(src[dy:dy + ht, dx:dx + wt] - temp)\n",
    "            score[dy, dx] = diff.sum()\n",
    "\n",
    "    # スコアが最小の走査位置を返す\n",
    "    pt = np.unravel_index(score.argmin(), score.shape)\n",
    "\n",
    "    return (pt[1], pt[0])\n",
    "\n",
    "\n",
    "def main():\n",
    "    # 入力画像とテンプレート画像をで取得\n",
    "    img = cv2.imread(\"input.png\")\n",
    "    temp = cv2.imread(\"temp.png\")\n",
    "\n",
    "    # グレースケール変換\n",
    "    gray = cv2.cvtColor(img, cv2.COLOR_RGB2GRAY)   \n",
    "    temp = cv2.cvtColor(temp, cv2.COLOR_RGB2GRAY)   \n",
    "\n",
    "    # テンプレート画像の高さ・幅\n",
    "    h, w = temp.shape\n",
    "\n",
    "    # テンプレートマッチング（NumPyで実装）\n",
    "    pt = template_matching_sad(gray, temp)\n",
    "    \n",
    "    # テンプレートマッチングの結果を出力\n",
    "    cv2.rectangle(img, (pt[0], pt[1]), (pt[0] + w, pt[1] + h), (0,0,200), 3)\n",
    "    cv2.imwrite(\"output.png\", img)\n",
    "\n",
    "\n",
    "if __name__ == \"__main__\":\n",
    "    main()"
   ]
  },
  {
   "cell_type": "code",
   "execution_count": null,
   "metadata": {},
   "outputs": [],
   "source": []
  },
  {
   "cell_type": "code",
   "execution_count": null,
   "metadata": {},
   "outputs": [],
   "source": []
  }
 ],
 "metadata": {
  "kernelspec": {
   "display_name": "Python 3",
   "language": "python",
   "name": "python3"
  },
  "language_info": {
   "codemirror_mode": {
    "name": "ipython",
    "version": 3
   },
   "file_extension": ".py",
   "mimetype": "text/x-python",
   "name": "python",
   "nbconvert_exporter": "python",
   "pygments_lexer": "ipython3",
   "version": "3.7.0"
  }
 },
 "nbformat": 4,
 "nbformat_minor": 2
}
